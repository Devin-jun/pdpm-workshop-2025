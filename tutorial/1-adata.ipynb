{
 "cells": [
  {
   "cell_type": "code",
   "execution_count": 1,
   "metadata": {},
   "outputs": [],
   "source": [
    "# 1. Install Scanpy (run this cell only if Scanpy is not already installed)\n",
    "# !pip install scanpy"
   ]
  },
  {
   "cell_type": "code",
   "execution_count": 2,
   "metadata": {},
   "outputs": [],
   "source": [
    "# 2. Import necessary libraries\n",
    "import scanpy as sc\n",
    "import numpy as np\n",
    "import pandas as pd"
   ]
  },
  {
   "cell_type": "code",
   "execution_count": 3,
   "metadata": {},
   "outputs": [],
   "source": [
    "# 3. Create a synthetic dataset: 100 cells × 500 genes\n",
    "#    - X: random Poisson counts\n",
    "#    - obs: cell metadata (e.g., percent_mito)\n",
    "#    - var: gene metadata (e.g., a \"highly_variable\" flag)\n",
    "X = np.random.poisson(lam=1.0, size=(100, 500))\n",
    "obs = pd.DataFrame({\n",
    "    'cell_id': [f'cell_{i}' for i in range(100)],\n",
    "    'percent_mito': np.random.rand(100) * 10\n",
    "})\n",
    "var = pd.DataFrame({\n",
    "    'gene_id': [f'gene_{i}' for i in range(500)],\n",
    "    'highly_variable': np.random.choice([True, False], size=500)\n",
    "})"
   ]
  },
  {
   "cell_type": "code",
   "execution_count": 4,
   "metadata": {},
   "outputs": [],
   "source": [
    "# 4. Set indices for cell and gene metadata\n",
    "obs.set_index('cell_id', inplace=True)\n",
    "var.set_index('gene_id', inplace=True)"
   ]
  },
  {
   "cell_type": "code",
   "execution_count": 5,
   "metadata": {},
   "outputs": [],
   "source": [
    "# 5. Construct the AnnData object\n",
    "adata = sc.AnnData(X=X, obs=obs, var=var)"
   ]
  },
  {
   "cell_type": "code",
   "execution_count": 6,
   "metadata": {},
   "outputs": [
    {
     "data": {
      "text/plain": [
       "AnnData object with n_obs × n_vars = 100 × 500\n",
       "    obs: 'percent_mito'\n",
       "    var: 'highly_variable'"
      ]
     },
     "execution_count": 6,
     "metadata": {},
     "output_type": "execute_result"
    }
   ],
   "source": [
    "adata"
   ]
  },
  {
   "cell_type": "code",
   "execution_count": null,
   "metadata": {},
   "outputs": [],
   "source": []
  }
 ],
 "metadata": {
  "kernelspec": {
   "display_name": "celldecoder",
   "language": "python",
   "name": "python3"
  },
  "language_info": {
   "codemirror_mode": {
    "name": "ipython",
    "version": 3
   },
   "file_extension": ".py",
   "mimetype": "text/x-python",
   "name": "python",
   "nbconvert_exporter": "python",
   "pygments_lexer": "ipython3",
   "version": "3.11.11"
  }
 },
 "nbformat": 4,
 "nbformat_minor": 2
}
