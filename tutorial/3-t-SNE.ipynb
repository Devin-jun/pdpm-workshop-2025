{
 "cells": [
  {
   "cell_type": "code",
   "execution_count": 1,
   "metadata": {},
   "outputs": [],
   "source": [
    "# t-SNE\n",
    "import scanpy as sc"
   ]
  },
  {
   "cell_type": "code",
   "execution_count": 2,
   "metadata": {},
   "outputs": [],
   "source": [
    "# 1. Load example dataset (10x Genomics PBMCs). Replace with your own file if needed.\n",
    "adata = sc.datasets.pbmc3k()  # Built-in example; alternatively use sc.read_10x_h5(...) or sc.read_h5ad(...)"
   ]
  },
  {
   "cell_type": "code",
   "execution_count": 3,
   "metadata": {},
   "outputs": [],
   "source": [
    "# 2. Basic preprocessing: filter, normalize, and log-transform\n",
    "sc.pp.filter_cells(adata, min_genes=200)        # Remove cells with fewer than 200 detected genes\n",
    "sc.pp.filter_genes(adata, min_cells=3)          # Remove genes expressed in fewer than 3 cells\n",
    "sc.pp.normalize_total(adata, target_sum=1e4)    # Normalize each cell’s total counts to 10,000\n",
    "sc.pp.log1p(adata)                              # Apply log(x + 1) transformation"
   ]
  },
  {
   "cell_type": "code",
   "execution_count": 4,
   "metadata": {},
   "outputs": [
    {
     "name": "stderr",
     "output_type": "stream",
     "text": [
      "/Volumes/devinjzhu/miniconda3/envs/celldecoder/lib/python3.11/site-packages/scanpy/preprocessing/_highly_variable_genes.py:75: UserWarning: `flavor='seurat_v3'` expects raw count data, but non-integers were found.\n",
      "  warnings.warn(\n",
      "OMP: Info #276: omp_set_nested routine deprecated, please use omp_set_max_active_levels instead.\n"
     ]
    }
   ],
   "source": [
    "# 3. Identify highly variable genes (HVGs); subset to top 2,000\n",
    "sc.pp.highly_variable_genes(adata, n_top_genes=2000, flavor='seurat_v3')\n",
    "adata = adata[:, adata.var.highly_variable]     # Keep only HVGs"
   ]
  },
  {
   "cell_type": "code",
   "execution_count": null,
   "metadata": {},
   "outputs": [],
   "source": [
    "# 4. Regress out unwanted variation and scale data （optial）\n",
    "sc.pp.regress_out(adata, ['total_counts', 'pct_counts_mt'])  # Regress out total counts and mitochondrial percentage\n",
    "sc.pp.scale(adata, max_value=10)                              # Scale each gene to unit variance, clip values > 10\n"
   ]
  }
 ],
 "metadata": {
  "kernelspec": {
   "display_name": "celldecoder",
   "language": "python",
   "name": "python3"
  },
  "language_info": {
   "codemirror_mode": {
    "name": "ipython",
    "version": 3
   },
   "file_extension": ".py",
   "mimetype": "text/x-python",
   "name": "python",
   "nbconvert_exporter": "python",
   "pygments_lexer": "ipython3",
   "version": "3.11.11"
  }
 },
 "nbformat": 4,
 "nbformat_minor": 2
}
